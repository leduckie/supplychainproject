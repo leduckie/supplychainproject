{
 "cells": [
  {
   "cell_type": "markdown",
   "metadata": {
    "deletable": false,
    "editable": false,
    "nbgrader": {
     "cell_type": "markdown",
     "checksum": "d3c2fff192c7833ec721e5b6cffcfdd1",
     "grade": false,
     "grade_id": "cell-d6c13c15c59255fd",
     "locked": true,
     "schema_version": 3,
     "solution": false,
     "task": false
    }
   },
   "source": [
    "## Loops\n",
    "\n",
    "\n",
    "We have created a dictionary called 'plants' with the values representing annual supply out of that region.\n",
    "Use a for loop to populate a list called 'updated_plants' with only the plant names of the plants with an annual supply of more than 875 units."
   ]
  },
  {
   "cell_type": "code",
   "execution_count": 2,
   "metadata": {
    "deletable": false,
    "editable": false,
    "nbgrader": {
     "cell_type": "code",
     "checksum": "3fb96c61543546e7d8b0aa4ba8be1653",
     "grade": false,
     "grade_id": "cell-200f89eacc88c232",
     "locked": true,
     "schema_version": 3,
     "solution": false,
     "task": false
    }
   },
   "outputs": [],
   "source": [
    "plants = {'Dallas': 900, 'Las Vegas': 500, 'Detroit': 832, 'Nashville': 600, 'Los Angeles': 2400, 'Seattle': 1300, 'Denver': 1800}"
   ]
  },
  {
   "cell_type": "code",
   "execution_count": 3,
   "metadata": {
    "deletable": false,
    "nbgrader": {
     "cell_type": "code",
     "checksum": "3265ffa57a8cbc2f1d94b22429d7cb49",
     "grade": false,
     "grade_id": "cell-e99da6a4fa695423",
     "locked": false,
     "schema_version": 3,
     "solution": true,
     "task": false
    }
   },
   "outputs": [
    {
     "name": "stdout",
     "output_type": "stream",
     "text": [
      "['Dallas', 'Los Angeles', 'Seattle', 'Denver']\n"
     ]
    }
   ],
   "source": [
    "updated_plants = []\n",
    "\n",
    "'''\n",
    "Populate the list called 'updated_plants' with only the plant names of the \n",
    "plants with an annual supply of more than 875 units.\n",
    "'''\n",
    "\n",
    "# your code here\n",
    "for plant, supply in plants.items():\n",
    "    if supply > 875:\n",
    "        updated_plants.append(plant)\n",
    "\n",
    "print(updated_plants)"
   ]
  },
  {
   "cell_type": "code",
   "execution_count": null,
   "metadata": {
    "deletable": false,
    "editable": false,
    "nbgrader": {
     "cell_type": "code",
     "checksum": "b8efaa47e2019a002b87d51fa57e20a9",
     "grade": true,
     "grade_id": "cell-d9d38ad084cecdf3",
     "locked": true,
     "points": 1,
     "schema_version": 3,
     "solution": false,
     "task": false
    }
   },
   "outputs": [],
   "source": [
    "'''\n",
    "END OF SECTION\n",
    "'''\n"
   ]
  }
 ],
 "metadata": {
  "kernelspec": {
   "display_name": "Python 3",
   "language": "python",
   "name": "python3"
  },
  "language_info": {
   "codemirror_mode": {
    "name": "ipython",
    "version": 3
   },
   "file_extension": ".py",
   "mimetype": "text/x-python",
   "name": "python",
   "nbconvert_exporter": "python",
   "pygments_lexer": "ipython3",
   "version": "3.7.6"
  }
 },
 "nbformat": 4,
 "nbformat_minor": 4
}
