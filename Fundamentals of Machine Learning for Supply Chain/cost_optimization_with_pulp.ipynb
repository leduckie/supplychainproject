{
 "cells": [
  {
   "cell_type": "markdown",
   "metadata": {
    "deletable": false,
    "editable": false,
    "nbgrader": {
     "cell_type": "markdown",
     "checksum": "42c83b3166097bf2f9b2d06432c093fa",
     "grade": false,
     "grade_id": "cell-f903815e9d1de71c",
     "locked": true,
     "schema_version": 3,
     "solution": false,
     "task": false
    }
   },
   "source": [
    "## Filling Demand while Optimizing Cost"
   ]
  },
  {
   "cell_type": "markdown",
   "metadata": {
    "deletable": false,
    "editable": false,
    "nbgrader": {
     "cell_type": "markdown",
     "checksum": "13db375fac4545fa8eadda9dcb4a82c4",
     "grade": false,
     "grade_id": "cell-555c7e3bc7f45883",
     "locked": true,
     "schema_version": 3,
     "solution": false,
     "task": false
    }
   },
   "source": [
    "In cells 1-6, we import packages and read in the files we'll use. Refer to the assignment instructions for a description of the files. Note that we drop any null columns/rows."
   ]
  },
  {
   "cell_type": "code",
   "execution_count": 2,
   "metadata": {
    "deletable": false,
    "editable": false,
    "nbgrader": {
     "cell_type": "code",
     "checksum": "b73af3dadb301417264a9767c705b9a0",
     "grade": false,
     "grade_id": "cell-6b2ca7410cf12f0c",
     "locked": true,
     "schema_version": 3,
     "solution": false,
     "task": false
    }
   },
   "outputs": [],
   "source": [
    "import pandas as pd\n",
    "import numpy as np\n",
    "import pulp"
   ]
  },
  {
   "cell_type": "code",
   "execution_count": 3,
   "metadata": {
    "deletable": false,
    "editable": false,
    "nbgrader": {
     "cell_type": "code",
     "checksum": "856e0b6f66733d7541942a8f3ac6da6c",
     "grade": false,
     "grade_id": "cell-e8a949c0186f65bf",
     "locked": true,
     "schema_version": 3,
     "solution": false,
     "task": false
    }
   },
   "outputs": [
    {
     "data": {
      "text/html": [
       "<div>\n",
       "<style scoped>\n",
       "    .dataframe tbody tr th:only-of-type {\n",
       "        vertical-align: middle;\n",
       "    }\n",
       "\n",
       "    .dataframe tbody tr th {\n",
       "        vertical-align: top;\n",
       "    }\n",
       "\n",
       "    .dataframe thead th {\n",
       "        text-align: right;\n",
       "    }\n",
       "</style>\n",
       "<table border=\"1\" class=\"dataframe\">\n",
       "  <thead>\n",
       "    <tr style=\"text-align: right;\">\n",
       "      <th></th>\n",
       "      <th>Order ID</th>\n",
       "      <th>Order Date</th>\n",
       "      <th>Product ID</th>\n",
       "      <th>Destination Port</th>\n",
       "      <th>Unit quantity</th>\n",
       "      <th>Weight</th>\n",
       "    </tr>\n",
       "  </thead>\n",
       "  <tbody>\n",
       "    <tr>\n",
       "      <th>0</th>\n",
       "      <td>782912</td>\n",
       "      <td>2019-12-31</td>\n",
       "      <td>1700106</td>\n",
       "      <td>PORT09</td>\n",
       "      <td>808</td>\n",
       "      <td>14.30</td>\n",
       "    </tr>\n",
       "    <tr>\n",
       "      <th>1</th>\n",
       "      <td>782913</td>\n",
       "      <td>2019-12-31</td>\n",
       "      <td>1700106</td>\n",
       "      <td>PORT09</td>\n",
       "      <td>3188</td>\n",
       "      <td>87.94</td>\n",
       "    </tr>\n",
       "    <tr>\n",
       "      <th>2</th>\n",
       "      <td>782914</td>\n",
       "      <td>2019-12-31</td>\n",
       "      <td>1700106</td>\n",
       "      <td>PORT09</td>\n",
       "      <td>2331</td>\n",
       "      <td>61.20</td>\n",
       "    </tr>\n",
       "    <tr>\n",
       "      <th>3</th>\n",
       "      <td>782915</td>\n",
       "      <td>2019-12-31</td>\n",
       "      <td>1700106</td>\n",
       "      <td>PORT09</td>\n",
       "      <td>847</td>\n",
       "      <td>16.16</td>\n",
       "    </tr>\n",
       "    <tr>\n",
       "      <th>4</th>\n",
       "      <td>782916</td>\n",
       "      <td>2019-12-31</td>\n",
       "      <td>1700106</td>\n",
       "      <td>PORT09</td>\n",
       "      <td>2163</td>\n",
       "      <td>52.34</td>\n",
       "    </tr>\n",
       "  </tbody>\n",
       "</table>\n",
       "</div>"
      ],
      "text/plain": [
       "   Order ID Order Date  Product ID Destination Port  Unit quantity  Weight\n",
       "0    782912 2019-12-31     1700106           PORT09            808   14.30\n",
       "1    782913 2019-12-31     1700106           PORT09           3188   87.94\n",
       "2    782914 2019-12-31     1700106           PORT09           2331   61.20\n",
       "3    782915 2019-12-31     1700106           PORT09            847   16.16\n",
       "4    782916 2019-12-31     1700106           PORT09           2163   52.34"
      ]
     },
     "execution_count": 3,
     "metadata": {},
     "output_type": "execute_result"
    }
   ],
   "source": [
    "orders = pd.read_excel('Supply chain logisitcs problem.xlsx')\n",
    "orders.dropna(axis = 1, how = 'all', inplace = True)\n",
    "orders.dropna(axis = 0, how = 'all', inplace = True)\n",
    "orders.head()"
   ]
  },
  {
   "cell_type": "code",
   "execution_count": 4,
   "metadata": {
    "deletable": false,
    "editable": false,
    "nbgrader": {
     "cell_type": "code",
     "checksum": "0b66d14a7ddf48cd7f1aa8835691a35c",
     "grade": false,
     "grade_id": "cell-594b4b6b5dfc24fd",
     "locked": true,
     "schema_version": 3,
     "solution": false,
     "task": false
    }
   },
   "outputs": [
    {
     "data": {
      "text/html": [
       "<div>\n",
       "<style scoped>\n",
       "    .dataframe tbody tr th:only-of-type {\n",
       "        vertical-align: middle;\n",
       "    }\n",
       "\n",
       "    .dataframe tbody tr th {\n",
       "        vertical-align: top;\n",
       "    }\n",
       "\n",
       "    .dataframe thead th {\n",
       "        text-align: right;\n",
       "    }\n",
       "</style>\n",
       "<table border=\"1\" class=\"dataframe\">\n",
       "  <thead>\n",
       "    <tr style=\"text-align: right;\">\n",
       "      <th></th>\n",
       "      <th>orig_port_cd</th>\n",
       "      <th>dest_port_cd</th>\n",
       "      <th>rate</th>\n",
       "    </tr>\n",
       "  </thead>\n",
       "  <tbody>\n",
       "    <tr>\n",
       "      <th>0</th>\n",
       "      <td>PORT02</td>\n",
       "      <td>PORT09</td>\n",
       "      <td>0.0484</td>\n",
       "    </tr>\n",
       "    <tr>\n",
       "      <th>1</th>\n",
       "      <td>PORT03</td>\n",
       "      <td>PORT09</td>\n",
       "      <td>0.1156</td>\n",
       "    </tr>\n",
       "    <tr>\n",
       "      <th>2</th>\n",
       "      <td>PORT04</td>\n",
       "      <td>PORT09</td>\n",
       "      <td>0.0620</td>\n",
       "    </tr>\n",
       "    <tr>\n",
       "      <th>3</th>\n",
       "      <td>PORT05</td>\n",
       "      <td>PORT09</td>\n",
       "      <td>0.1008</td>\n",
       "    </tr>\n",
       "    <tr>\n",
       "      <th>4</th>\n",
       "      <td>PORT06</td>\n",
       "      <td>PORT09</td>\n",
       "      <td>0.0848</td>\n",
       "    </tr>\n",
       "  </tbody>\n",
       "</table>\n",
       "</div>"
      ],
      "text/plain": [
       "  orig_port_cd dest_port_cd    rate\n",
       "0       PORT02       PORT09  0.0484\n",
       "1       PORT03       PORT09  0.1156\n",
       "2       PORT04       PORT09  0.0620\n",
       "3       PORT05       PORT09  0.1008\n",
       "4       PORT06       PORT09  0.0848"
      ]
     },
     "execution_count": 4,
     "metadata": {},
     "output_type": "execute_result"
    }
   ],
   "source": [
    "freight_rates = pd.read_excel('Supply chain logisitcs problem.xlsx', sheet_name  = 1)\n",
    "freight_rates.dropna(axis = 1, how = 'all', inplace = True)\n",
    "freight_rates.dropna(axis = 0, how = 'all', inplace = True)\n",
    "freight_rates.head()"
   ]
  },
  {
   "cell_type": "code",
   "execution_count": 5,
   "metadata": {
    "deletable": false,
    "editable": false,
    "nbgrader": {
     "cell_type": "code",
     "checksum": "0d2d74859cf339939cb556e11615ab00",
     "grade": false,
     "grade_id": "cell-6435d6e22c5d6e49",
     "locked": true,
     "schema_version": 3,
     "solution": false,
     "task": false
    }
   },
   "outputs": [
    {
     "data": {
      "text/html": [
       "<div>\n",
       "<style scoped>\n",
       "    .dataframe tbody tr th:only-of-type {\n",
       "        vertical-align: middle;\n",
       "    }\n",
       "\n",
       "    .dataframe tbody tr th {\n",
       "        vertical-align: top;\n",
       "    }\n",
       "\n",
       "    .dataframe thead th {\n",
       "        text-align: right;\n",
       "    }\n",
       "</style>\n",
       "<table border=\"1\" class=\"dataframe\">\n",
       "  <thead>\n",
       "    <tr style=\"text-align: right;\">\n",
       "      <th></th>\n",
       "      <th>Plant ID</th>\n",
       "      <th>Daily Capacity</th>\n",
       "    </tr>\n",
       "  </thead>\n",
       "  <tbody>\n",
       "    <tr>\n",
       "      <th>0</th>\n",
       "      <td>PLANT15</td>\n",
       "      <td>1872</td>\n",
       "    </tr>\n",
       "    <tr>\n",
       "      <th>1</th>\n",
       "      <td>PLANT17</td>\n",
       "      <td>731</td>\n",
       "    </tr>\n",
       "    <tr>\n",
       "      <th>2</th>\n",
       "      <td>PLANT18</td>\n",
       "      <td>682</td>\n",
       "    </tr>\n",
       "    <tr>\n",
       "      <th>3</th>\n",
       "      <td>PLANT05</td>\n",
       "      <td>531</td>\n",
       "    </tr>\n",
       "    <tr>\n",
       "      <th>4</th>\n",
       "      <td>PLANT02</td>\n",
       "      <td>435</td>\n",
       "    </tr>\n",
       "  </tbody>\n",
       "</table>\n",
       "</div>"
      ],
      "text/plain": [
       "  Plant ID  Daily Capacity\n",
       "0  PLANT15            1872\n",
       "1  PLANT17             731\n",
       "2  PLANT18             682\n",
       "3  PLANT05             531\n",
       "4  PLANT02             435"
      ]
     },
     "execution_count": 5,
     "metadata": {},
     "output_type": "execute_result"
    }
   ],
   "source": [
    "wh_capacities = pd.read_excel('Supply chain logisitcs problem.xlsx', sheet_name  = 2)\n",
    "wh_capacities.dropna(axis = 1, how = 'all', inplace = True)\n",
    "wh_capacities.dropna(axis = 0, how = 'all', inplace = True)\n",
    "wh_capacities.head()"
   ]
  },
  {
   "cell_type": "code",
   "execution_count": 6,
   "metadata": {
    "deletable": false,
    "editable": false,
    "nbgrader": {
     "cell_type": "code",
     "checksum": "2c72d5d21059120e1599b685f914dcfa",
     "grade": false,
     "grade_id": "cell-cfc0252e96b88de1",
     "locked": true,
     "schema_version": 3,
     "solution": false,
     "task": false
    }
   },
   "outputs": [
    {
     "data": {
      "text/html": [
       "<div>\n",
       "<style scoped>\n",
       "    .dataframe tbody tr th:only-of-type {\n",
       "        vertical-align: middle;\n",
       "    }\n",
       "\n",
       "    .dataframe tbody tr th {\n",
       "        vertical-align: top;\n",
       "    }\n",
       "\n",
       "    .dataframe thead th {\n",
       "        text-align: right;\n",
       "    }\n",
       "</style>\n",
       "<table border=\"1\" class=\"dataframe\">\n",
       "  <thead>\n",
       "    <tr style=\"text-align: right;\">\n",
       "      <th></th>\n",
       "      <th>Plant Code</th>\n",
       "      <th>Product ID</th>\n",
       "      <th>Cost per unit</th>\n",
       "    </tr>\n",
       "  </thead>\n",
       "  <tbody>\n",
       "    <tr>\n",
       "      <th>0</th>\n",
       "      <td>PLANT15</td>\n",
       "      <td>1698815</td>\n",
       "      <td>1.70</td>\n",
       "    </tr>\n",
       "    <tr>\n",
       "      <th>1</th>\n",
       "      <td>PLANT17</td>\n",
       "      <td>1664419</td>\n",
       "      <td>0.44</td>\n",
       "    </tr>\n",
       "    <tr>\n",
       "      <th>2</th>\n",
       "      <td>PLANT17</td>\n",
       "      <td>1664426</td>\n",
       "      <td>0.37</td>\n",
       "    </tr>\n",
       "    <tr>\n",
       "      <th>3</th>\n",
       "      <td>PLANT17</td>\n",
       "      <td>1672826</td>\n",
       "      <td>1.90</td>\n",
       "    </tr>\n",
       "    <tr>\n",
       "      <th>4</th>\n",
       "      <td>PLANT17</td>\n",
       "      <td>1674916</td>\n",
       "      <td>0.28</td>\n",
       "    </tr>\n",
       "  </tbody>\n",
       "</table>\n",
       "</div>"
      ],
      "text/plain": [
       "  Plant Code  Product ID  Cost per unit\n",
       "0    PLANT15     1698815           1.70\n",
       "1    PLANT17     1664419           0.44\n",
       "2    PLANT17     1664426           0.37\n",
       "3    PLANT17     1672826           1.90\n",
       "4    PLANT17     1674916           0.28"
      ]
     },
     "execution_count": 6,
     "metadata": {},
     "output_type": "execute_result"
    }
   ],
   "source": [
    "products_per_plant = pd.read_excel('Supply chain logisitcs problem.xlsx', sheet_name  = 3)\n",
    "products_per_plant.dropna(axis = 1, how = 'all', inplace = True)\n",
    "products_per_plant.dropna(axis = 0, how = 'all', inplace = True)\n",
    "products_per_plant.head()"
   ]
  },
  {
   "cell_type": "code",
   "execution_count": 7,
   "metadata": {
    "deletable": false,
    "editable": false,
    "nbgrader": {
     "cell_type": "code",
     "checksum": "a6e4d989b08f934b10d57eb8d9b91ccb",
     "grade": false,
     "grade_id": "cell-522ee8b1aa2f528d",
     "locked": true,
     "schema_version": 3,
     "solution": false,
     "task": false
    }
   },
   "outputs": [
    {
     "data": {
      "text/html": [
       "<div>\n",
       "<style scoped>\n",
       "    .dataframe tbody tr th:only-of-type {\n",
       "        vertical-align: middle;\n",
       "    }\n",
       "\n",
       "    .dataframe tbody tr th {\n",
       "        vertical-align: top;\n",
       "    }\n",
       "\n",
       "    .dataframe thead th {\n",
       "        text-align: right;\n",
       "    }\n",
       "</style>\n",
       "<table border=\"1\" class=\"dataframe\">\n",
       "  <thead>\n",
       "    <tr style=\"text-align: right;\">\n",
       "      <th></th>\n",
       "      <th>Plant Code</th>\n",
       "      <th>Port</th>\n",
       "    </tr>\n",
       "  </thead>\n",
       "  <tbody>\n",
       "    <tr>\n",
       "      <th>0</th>\n",
       "      <td>PLANT01</td>\n",
       "      <td>PORT01</td>\n",
       "    </tr>\n",
       "    <tr>\n",
       "      <th>1</th>\n",
       "      <td>PLANT01</td>\n",
       "      <td>PORT02</td>\n",
       "    </tr>\n",
       "    <tr>\n",
       "      <th>2</th>\n",
       "      <td>PLANT02</td>\n",
       "      <td>PORT03</td>\n",
       "    </tr>\n",
       "    <tr>\n",
       "      <th>3</th>\n",
       "      <td>PLANT03</td>\n",
       "      <td>PORT04</td>\n",
       "    </tr>\n",
       "    <tr>\n",
       "      <th>4</th>\n",
       "      <td>PLANT04</td>\n",
       "      <td>PORT05</td>\n",
       "    </tr>\n",
       "  </tbody>\n",
       "</table>\n",
       "</div>"
      ],
      "text/plain": [
       "  Plant Code    Port\n",
       "0    PLANT01  PORT01\n",
       "1    PLANT01  PORT02\n",
       "2    PLANT02  PORT03\n",
       "3    PLANT03  PORT04\n",
       "4    PLANT04  PORT05"
      ]
     },
     "execution_count": 7,
     "metadata": {},
     "output_type": "execute_result"
    }
   ],
   "source": [
    "ports = pd.read_excel('Supply chain logisitcs problem.xlsx', sheet_name  = 4)\n",
    "ports.dropna(axis = 1, how = 'all', inplace = True)\n",
    "ports.dropna(axis = 0, how = 'all', inplace = True)\n",
    "ports.head()"
   ]
  },
  {
   "cell_type": "markdown",
   "metadata": {
    "deletable": false,
    "editable": false,
    "nbgrader": {
     "cell_type": "markdown",
     "checksum": "fbb4ca4f15e6f07f2a1c4582c22f84d7",
     "grade": false,
     "grade_id": "cell-f3270030338c36ac",
     "locked": true,
     "schema_version": 3,
     "solution": false,
     "task": false
    }
   },
   "source": [
    "We need to turn the shipping costs into a dictionary for easy lookup. We use the 'dict(zip(column1, column2))' paradigm."
   ]
  },
  {
   "cell_type": "code",
   "execution_count": 8,
   "metadata": {
    "deletable": false,
    "editable": false,
    "nbgrader": {
     "cell_type": "code",
     "checksum": "2c85084a79a23fb29e6f492511644ecb",
     "grade": false,
     "grade_id": "cell-d890f5dcddbe8e47",
     "locked": true,
     "schema_version": 3,
     "solution": false,
     "task": false
    }
   },
   "outputs": [],
   "source": [
    "shipping_costs = dict(zip(freight_rates['orig_port_cd'], freight_rates['rate']))"
   ]
  },
  {
   "cell_type": "markdown",
   "metadata": {
    "deletable": false,
    "editable": false,
    "nbgrader": {
     "cell_type": "markdown",
     "checksum": "59db3984bafe56d4ce19db6a4a60e933",
     "grade": false,
     "grade_id": "cell-44968dc090b80b8d",
     "locked": true,
     "schema_version": 3,
     "solution": false,
     "task": false
    }
   },
   "source": [
    "Next, we create a list of all unique products per plant. For now, you can treat the 'tuple' data type as a list."
   ]
  },
  {
   "cell_type": "code",
   "execution_count": 9,
   "metadata": {
    "deletable": false,
    "editable": false,
    "nbgrader": {
     "cell_type": "code",
     "checksum": "451e4e1c9ca5b7c2284580c354cfe24a",
     "grade": false,
     "grade_id": "cell-d95e9b837945fea7",
     "locked": true,
     "schema_version": 3,
     "solution": false,
     "task": false
    }
   },
   "outputs": [],
   "source": [
    "def get_plants(product_id):\n",
    "    \n",
    "    temp = products_per_plant[products_per_plant['Product ID'] == product_id]\n",
    "    return tuple(np.unique(temp['Plant Code']))"
   ]
  },
  {
   "cell_type": "markdown",
   "metadata": {
    "deletable": false,
    "editable": false,
    "nbgrader": {
     "cell_type": "markdown",
     "checksum": "ae5eadd969efb2d7ecd52e7e27be243c",
     "grade": false,
     "grade_id": "cell-c0881f9dc2beeb23",
     "locked": true,
     "schema_version": 3,
     "solution": false,
     "task": false
    }
   },
   "source": [
    "## Part 1 (20 points)\n",
    "\n",
    "a) 10 points\n",
    "\n",
    "b) 10 points"
   ]
  },
  {
   "cell_type": "code",
   "execution_count": 10,
   "metadata": {
    "deletable": false,
    "nbgrader": {
     "cell_type": "code",
     "checksum": "1f8b09c5451ce958f5ccb04817b812bd",
     "grade": false,
     "grade_id": "allowed_plants",
     "locked": false,
     "schema_version": 3,
     "solution": true,
     "task": false
    }
   },
   "outputs": [
    {
     "data": {
      "text/html": [
       "<div>\n",
       "<style scoped>\n",
       "    .dataframe tbody tr th:only-of-type {\n",
       "        vertical-align: middle;\n",
       "    }\n",
       "\n",
       "    .dataframe tbody tr th {\n",
       "        vertical-align: top;\n",
       "    }\n",
       "\n",
       "    .dataframe thead th {\n",
       "        text-align: right;\n",
       "    }\n",
       "</style>\n",
       "<table border=\"1\" class=\"dataframe\">\n",
       "  <thead>\n",
       "    <tr style=\"text-align: right;\">\n",
       "      <th></th>\n",
       "      <th>Order ID</th>\n",
       "      <th>Order Date</th>\n",
       "      <th>Product ID</th>\n",
       "      <th>Destination Port</th>\n",
       "      <th>Unit quantity</th>\n",
       "      <th>Weight</th>\n",
       "      <th>allowed_plants</th>\n",
       "    </tr>\n",
       "  </thead>\n",
       "  <tbody>\n",
       "    <tr>\n",
       "      <th>0</th>\n",
       "      <td>782912</td>\n",
       "      <td>2019-12-31</td>\n",
       "      <td>1700106</td>\n",
       "      <td>PORT09</td>\n",
       "      <td>808</td>\n",
       "      <td>14.300000</td>\n",
       "      <td>(PLANT16,)</td>\n",
       "    </tr>\n",
       "    <tr>\n",
       "      <th>1</th>\n",
       "      <td>782913</td>\n",
       "      <td>2019-12-31</td>\n",
       "      <td>1700106</td>\n",
       "      <td>PORT09</td>\n",
       "      <td>3188</td>\n",
       "      <td>87.940000</td>\n",
       "      <td>(PLANT16,)</td>\n",
       "    </tr>\n",
       "    <tr>\n",
       "      <th>2</th>\n",
       "      <td>782914</td>\n",
       "      <td>2019-12-31</td>\n",
       "      <td>1700106</td>\n",
       "      <td>PORT09</td>\n",
       "      <td>2331</td>\n",
       "      <td>61.200000</td>\n",
       "      <td>(PLANT16,)</td>\n",
       "    </tr>\n",
       "    <tr>\n",
       "      <th>3</th>\n",
       "      <td>782915</td>\n",
       "      <td>2019-12-31</td>\n",
       "      <td>1700106</td>\n",
       "      <td>PORT09</td>\n",
       "      <td>847</td>\n",
       "      <td>16.160000</td>\n",
       "      <td>(PLANT16,)</td>\n",
       "    </tr>\n",
       "    <tr>\n",
       "      <th>4</th>\n",
       "      <td>782916</td>\n",
       "      <td>2019-12-31</td>\n",
       "      <td>1700106</td>\n",
       "      <td>PORT09</td>\n",
       "      <td>2163</td>\n",
       "      <td>52.340000</td>\n",
       "      <td>(PLANT16,)</td>\n",
       "    </tr>\n",
       "    <tr>\n",
       "      <th>...</th>\n",
       "      <td>...</td>\n",
       "      <td>...</td>\n",
       "      <td>...</td>\n",
       "      <td>...</td>\n",
       "      <td>...</td>\n",
       "      <td>...</td>\n",
       "      <td>...</td>\n",
       "    </tr>\n",
       "    <tr>\n",
       "      <th>9210</th>\n",
       "      <td>792122</td>\n",
       "      <td>2019-12-31</td>\n",
       "      <td>1683388</td>\n",
       "      <td>PORT09</td>\n",
       "      <td>339</td>\n",
       "      <td>2.354118</td>\n",
       "      <td>(PLANT03,)</td>\n",
       "    </tr>\n",
       "    <tr>\n",
       "      <th>9211</th>\n",
       "      <td>792123</td>\n",
       "      <td>2019-12-31</td>\n",
       "      <td>1683388</td>\n",
       "      <td>PORT09</td>\n",
       "      <td>339</td>\n",
       "      <td>2.354118</td>\n",
       "      <td>(PLANT03,)</td>\n",
       "    </tr>\n",
       "    <tr>\n",
       "      <th>9212</th>\n",
       "      <td>792124</td>\n",
       "      <td>2019-12-31</td>\n",
       "      <td>1683388</td>\n",
       "      <td>PORT09</td>\n",
       "      <td>245</td>\n",
       "      <td>0.294265</td>\n",
       "      <td>(PLANT03,)</td>\n",
       "    </tr>\n",
       "    <tr>\n",
       "      <th>9213</th>\n",
       "      <td>792125</td>\n",
       "      <td>2019-12-31</td>\n",
       "      <td>1683430</td>\n",
       "      <td>PORT09</td>\n",
       "      <td>278</td>\n",
       "      <td>2.480000</td>\n",
       "      <td>(PLANT03,)</td>\n",
       "    </tr>\n",
       "    <tr>\n",
       "      <th>9214</th>\n",
       "      <td>792126</td>\n",
       "      <td>2019-12-31</td>\n",
       "      <td>1683424</td>\n",
       "      <td>PORT09</td>\n",
       "      <td>317</td>\n",
       "      <td>1.960000</td>\n",
       "      <td>(PLANT03,)</td>\n",
       "    </tr>\n",
       "  </tbody>\n",
       "</table>\n",
       "<p>9215 rows × 7 columns</p>\n",
       "</div>"
      ],
      "text/plain": [
       "      Order ID Order Date  Product ID Destination Port  Unit quantity  \\\n",
       "0       782912 2019-12-31     1700106           PORT09            808   \n",
       "1       782913 2019-12-31     1700106           PORT09           3188   \n",
       "2       782914 2019-12-31     1700106           PORT09           2331   \n",
       "3       782915 2019-12-31     1700106           PORT09            847   \n",
       "4       782916 2019-12-31     1700106           PORT09           2163   \n",
       "...        ...        ...         ...              ...            ...   \n",
       "9210    792122 2019-12-31     1683388           PORT09            339   \n",
       "9211    792123 2019-12-31     1683388           PORT09            339   \n",
       "9212    792124 2019-12-31     1683388           PORT09            245   \n",
       "9213    792125 2019-12-31     1683430           PORT09            278   \n",
       "9214    792126 2019-12-31     1683424           PORT09            317   \n",
       "\n",
       "         Weight allowed_plants  \n",
       "0     14.300000     (PLANT16,)  \n",
       "1     87.940000     (PLANT16,)  \n",
       "2     61.200000     (PLANT16,)  \n",
       "3     16.160000     (PLANT16,)  \n",
       "4     52.340000     (PLANT16,)  \n",
       "...         ...            ...  \n",
       "9210   2.354118     (PLANT03,)  \n",
       "9211   2.354118     (PLANT03,)  \n",
       "9212   0.294265     (PLANT03,)  \n",
       "9213   2.480000     (PLANT03,)  \n",
       "9214   1.960000     (PLANT03,)  \n",
       "\n",
       "[9215 rows x 7 columns]"
      ]
     },
     "execution_count": 10,
     "metadata": {},
     "output_type": "execute_result"
    }
   ],
   "source": [
    "''' \n",
    "a) Create a new column in the 'orders' dataframe called 'allowed_plants'. \n",
    "To do this, you'll need to apply the defined get_plants function using a lambda function.\n",
    "'''\n",
    "\n",
    "# your code here\n",
    "orders['allowed_plants'] = orders['Product ID'].apply(lambda x: get_plants(x))\n",
    "orders"
   ]
  },
  {
   "cell_type": "code",
   "execution_count": null,
   "metadata": {
    "deletable": false,
    "editable": false,
    "nbgrader": {
     "cell_type": "code",
     "checksum": "bb706e54ec6d6030f80dbae5d02160fa",
     "grade": true,
     "grade_id": "allowed_plants_TEST",
     "locked": true,
     "points": 10,
     "schema_version": 3,
     "solution": false,
     "task": false
    }
   },
   "outputs": [],
   "source": [
    "''' \n",
    "End of Section\n",
    "'''"
   ]
  },
  {
   "cell_type": "code",
   "execution_count": 11,
   "metadata": {
    "deletable": false,
    "nbgrader": {
     "cell_type": "code",
     "checksum": "3f66919db73a7304d3195446ce01fde6",
     "grade": false,
     "grade_id": "set_index",
     "locked": false,
     "schema_version": 3,
     "solution": true,
     "task": false
    }
   },
   "outputs": [],
   "source": [
    "'''\n",
    "b) Set the index of the 'orders' dataframe to be the 'Order ID'. Make sure you set the index in place. \n",
    "'''\n",
    "# your code here\n",
    "orders.set_index('Order ID', inplace=True)"
   ]
  },
  {
   "cell_type": "code",
   "execution_count": null,
   "metadata": {
    "deletable": false,
    "editable": false,
    "nbgrader": {
     "cell_type": "code",
     "checksum": "17564d59f881526b7c22fe0e25b32500",
     "grade": true,
     "grade_id": "set_index_TEST",
     "locked": true,
     "points": 10,
     "schema_version": 3,
     "solution": false,
     "task": false
    }
   },
   "outputs": [],
   "source": [
    "''' \n",
    "End of Section\n",
    "'''"
   ]
  },
  {
   "cell_type": "markdown",
   "metadata": {
    "deletable": false,
    "editable": false,
    "nbgrader": {
     "cell_type": "markdown",
     "checksum": "e0caa188734ed79dc4bb1b1d9030becb",
     "grade": false,
     "grade_id": "cell-f6c9fb34a9fe9e8c",
     "locked": true,
     "schema_version": 3,
     "solution": false,
     "task": false
    }
   },
   "source": [
    "Next, we create a dictionary to connect plants (warehouses) with the associated ports. Again, we use the 'dict(zip(column1, column2))' paradigm."
   ]
  },
  {
   "cell_type": "code",
   "execution_count": 12,
   "metadata": {
    "deletable": false,
    "editable": false,
    "nbgrader": {
     "cell_type": "code",
     "checksum": "7e4f92db8b77f85148d14dff732dd486",
     "grade": false,
     "grade_id": "cell-12654370315b46d2",
     "locked": true,
     "schema_version": 3,
     "solution": false,
     "task": false
    }
   },
   "outputs": [],
   "source": [
    "plant_ports = dict(zip(ports['Plant Code'], ports['Port']))"
   ]
  },
  {
   "cell_type": "markdown",
   "metadata": {
    "deletable": false,
    "editable": false,
    "nbgrader": {
     "cell_type": "markdown",
     "checksum": "b09d6d106a736cf9d6b8eb77bcff9b37",
     "grade": false,
     "grade_id": "cell-eb33c9f745062089",
     "locked": true,
     "schema_version": 3,
     "solution": false,
     "task": false
    }
   },
   "source": [
    "## Part 2 (60 points)\n",
    "\n",
    "a) 25 points\n",
    "\n",
    "b) 25 points\n",
    "\n",
    "c) 10 points"
   ]
  },
  {
   "cell_type": "code",
   "execution_count": 13,
   "metadata": {
    "deletable": false,
    "nbgrader": {
     "cell_type": "code",
     "checksum": "b5cf69dca78a39fdc702bf1fa6278309",
     "grade": false,
     "grade_id": "production_cost",
     "locked": false,
     "schema_version": 3,
     "solution": true,
     "task": false
    }
   },
   "outputs": [],
   "source": [
    "def production_cost(order_id, plant):\n",
    "    '''\n",
    "    a) Return the production cost for a given order_id and plant (wahrehouse) name. \n",
    "    From the order id, you should first get the associated product id, which can be used to get the cost per unit.\n",
    "    From here, multiply the cost per unit by the unit quantity to get the total production cost.\n",
    "    '''\n",
    "    \n",
    "    # your code here\n",
    "    t = orders.loc[order_id]\n",
    "    prod_id = t['Product ID']\n",
    "    pt = products_per_plant[products_per_plant['Product ID'] == prod_id]\n",
    "    pt = pt[pt['Plant Code'] == plant]\n",
    "    cpu = pt['Cost per unit']\n",
    "    production_cost = cpu * t['Unit quantity']\n",
    "    return production_cost.iloc[0]"
   ]
  },
  {
   "cell_type": "code",
   "execution_count": null,
   "metadata": {
    "deletable": false,
    "editable": false,
    "nbgrader": {
     "cell_type": "code",
     "checksum": "9c537e02cbb15cbcedd64713419f8eb6",
     "grade": true,
     "grade_id": "production_cost_TEST",
     "locked": true,
     "points": 25,
     "schema_version": 3,
     "solution": false,
     "task": false
    }
   },
   "outputs": [],
   "source": [
    "'''\n",
    "End of Section\n",
    "'''"
   ]
  },
  {
   "cell_type": "code",
   "execution_count": 14,
   "metadata": {
    "deletable": false,
    "nbgrader": {
     "cell_type": "code",
     "checksum": "7229dae00a9b7b7be75f39acc14ba1f5",
     "grade": false,
     "grade_id": "shipping_cost",
     "locked": false,
     "schema_version": 3,
     "solution": true,
     "task": false
    }
   },
   "outputs": [],
   "source": [
    "def shipping_cost(order_id, plant):\n",
    "    '''\n",
    "    b) Return the shipping cost for a given order_id and plant (warehouse) name. \n",
    "    From the plant name, you should first get the associated port, which can be used to get the shipping cost per lb.\n",
    "    From here, multiply the cost per lb by the weight to get the total shipping cost.\n",
    "    '''\n",
    "    \n",
    "    # your code here\n",
    "    t = orders.loc[order_id]\n",
    "    w = t['Weight']\n",
    "    port = plant_ports[plant]\n",
    "    cp = shipping_costs[port]\n",
    "    ship_cost = cp * w\n",
    "    return ship_cost"
   ]
  },
  {
   "cell_type": "code",
   "execution_count": null,
   "metadata": {
    "deletable": false,
    "editable": false,
    "nbgrader": {
     "cell_type": "code",
     "checksum": "9ebfcda21264e71bdabf328cf012fbc6",
     "grade": true,
     "grade_id": "shipping_cost_TEST",
     "locked": true,
     "points": 25,
     "schema_version": 3,
     "solution": false,
     "task": false
    }
   },
   "outputs": [],
   "source": [
    "'''\n",
    "End of Section\n",
    "'''"
   ]
  },
  {
   "cell_type": "code",
   "execution_count": 15,
   "metadata": {
    "deletable": false,
    "nbgrader": {
     "cell_type": "code",
     "checksum": "02f439702e7e2f6f6924ec9d2f040294",
     "grade": false,
     "grade_id": "total_cost",
     "locked": false,
     "schema_version": 3,
     "solution": true,
     "task": false
    }
   },
   "outputs": [],
   "source": [
    "def total_cost(order_id, plant):\n",
    "    '''\n",
    "    c) Return the total cost for a given order_id and plant (warehouse) name. \n",
    "    You should add the results of the two functions above. \n",
    "    '''\n",
    "    # your code here\n",
    "    return shipping_cost(order_id, plant) + production_cost(order_id, plant)"
   ]
  },
  {
   "cell_type": "code",
   "execution_count": 16,
   "metadata": {},
   "outputs": [
    {
     "name": "stdout",
     "output_type": "stream",
     "text": [
      "<function total_cost at 0x7fb3773248c0>\n"
     ]
    }
   ],
   "source": [
    "print(total_cost)"
   ]
  },
  {
   "cell_type": "code",
   "execution_count": null,
   "metadata": {
    "deletable": false,
    "editable": false,
    "nbgrader": {
     "cell_type": "code",
     "checksum": "2ee9f0f173dafd64dc3bec6884037afb",
     "grade": true,
     "grade_id": "total_cost_TEST",
     "locked": true,
     "points": 10,
     "schema_version": 3,
     "solution": false,
     "task": false
    }
   },
   "outputs": [],
   "source": [
    "'''\n",
    "End of Section\n",
    "'''"
   ]
  },
  {
   "cell_type": "code",
   "execution_count": 17,
   "metadata": {
    "deletable": false,
    "editable": false,
    "nbgrader": {
     "cell_type": "code",
     "checksum": "8951e4c146f261855c7713c1646f50c6",
     "grade": false,
     "grade_id": "cell-ee8856dcb81c69ed",
     "locked": true,
     "schema_version": 3,
     "solution": false,
     "task": false
    },
    "scrolled": true
   },
   "outputs": [],
   "source": [
    "### We create a dictionary with the key-value pair 'orderId_plantName': total_cost.\n",
    "\n",
    "order_costs = {}\n",
    "for name, row in orders.iterrows():\n",
    "    order_id = name\n",
    "    for plant in row['allowed_plants']:   \n",
    "        order_costs[str(order_id) + '_' + str(plant)] = total_cost(order_id, plant)"
   ]
  },
  {
   "cell_type": "code",
   "execution_count": 18,
   "metadata": {
    "deletable": false,
    "editable": false,
    "nbgrader": {
     "cell_type": "code",
     "checksum": "f276a4c7681ee0aa78c7841ba470ba6b",
     "grade": false,
     "grade_id": "cell-eafe8e070ea5f861",
     "locked": true,
     "schema_version": 3,
     "solution": false,
     "task": false
    }
   },
   "outputs": [],
   "source": [
    "### We create a dictionary with the key-value pair 'plantName': list_of_orders.\n",
    "\n",
    "plants = np.unique(ports['Plant Code'])\n",
    "\n",
    "plant_orders = {}\n",
    "for plant in plants:\n",
    "    temp_list = []\n",
    "    for name, row in orders.iterrows():\n",
    "        if plant in row['allowed_plants']:  \n",
    "            temp_list.append(str(name) + '_' + plant)\n",
    "    plant_orders[plant] = temp_list"
   ]
  },
  {
   "cell_type": "code",
   "execution_count": 19,
   "metadata": {
    "deletable": false,
    "editable": false,
    "nbgrader": {
     "cell_type": "code",
     "checksum": "2ba5d05293ae50734121291d6886b0b4",
     "grade": false,
     "grade_id": "cell-73ab2d4f6735fda2",
     "locked": true,
     "schema_version": 3,
     "solution": false,
     "task": false
    }
   },
   "outputs": [],
   "source": [
    "### We create a dictionary with the key-value pair 'plantName': capacity.\n",
    "\n",
    "plant_cap = dict(zip(wh_capacities['Plant ID'], wh_capacities['Daily Capacity']))"
   ]
  },
  {
   "cell_type": "code",
   "execution_count": 20,
   "metadata": {
    "deletable": false,
    "editable": false,
    "nbgrader": {
     "cell_type": "code",
     "checksum": "c8afc18feb6d96eb2d0095d2891fafe0",
     "grade": false,
     "grade_id": "cell-30b49b01f8994d5c",
     "locked": true,
     "schema_version": 3,
     "solution": false,
     "task": false
    }
   },
   "outputs": [],
   "source": [
    "### We create a dictionary with the key-value pair 'orderID': orderID_plantName.\n",
    "\n",
    "order_plants = {}\n",
    "temp_dict = dict(zip(orders.index, orders['allowed_plants']))\n",
    "for key in temp_dict:\n",
    "    temp_list = []\n",
    "    for pl in temp_dict[key]:\n",
    "        temp_list.append(str(key) + '_' + pl)\n",
    "    order_plants[key] = temp_list"
   ]
  },
  {
   "cell_type": "markdown",
   "metadata": {
    "deletable": false,
    "editable": false,
    "nbgrader": {
     "cell_type": "markdown",
     "checksum": "8fdb64c609682a22f3898f1a6e975f89",
     "grade": false,
     "grade_id": "cell-a0bfb330ff5799c5",
     "locked": true,
     "schema_version": 3,
     "solution": false,
     "task": false
    }
   },
   "source": [
    "### Creating linear programming constraints\n",
    "\n",
    "In this section, we build the linear programming problem and solve."
   ]
  },
  {
   "cell_type": "code",
   "execution_count": 21,
   "metadata": {
    "deletable": false,
    "editable": false,
    "nbgrader": {
     "cell_type": "code",
     "checksum": "c0eb5f93fd3495773ac00236560cd9bc",
     "grade": false,
     "grade_id": "cell-a0996b37b9d0c0b0",
     "locked": true,
     "schema_version": 3,
     "solution": false,
     "task": false
    }
   },
   "outputs": [],
   "source": [
    "build = pulp.LpVariable.dicts(\"Route\",order_costs.keys(),0,None, pulp.LpInteger)\n",
    "prob = pulp.LpProblem(\"Problem\",pulp.LpMinimize)\n",
    "prob += pulp.lpSum([build[b] * order_costs[b] for b in order_costs.keys()]), \"Total Cost\""
   ]
  },
  {
   "cell_type": "code",
   "execution_count": 22,
   "metadata": {
    "deletable": false,
    "editable": false,
    "nbgrader": {
     "cell_type": "code",
     "checksum": "a5ed9de2b48560e6f86b8bd7dd503c4a",
     "grade": false,
     "grade_id": "cell-8cef5f783b873413",
     "locked": true,
     "schema_version": 3,
     "solution": false,
     "task": false
    }
   },
   "outputs": [],
   "source": [
    "for plant in plant_orders:\n",
    "    if len(plant_orders[plant]) > 0:\n",
    "        prob += pulp.lpSum(build[p] for p in plant_orders[plant]) <= plant_cap[plant], \"Total orders out of plant %s\"%plant"
   ]
  },
  {
   "cell_type": "code",
   "execution_count": 23,
   "metadata": {
    "deletable": false,
    "editable": false,
    "nbgrader": {
     "cell_type": "code",
     "checksum": "766374f79764bbca4c6d1cf4cb9b5c26",
     "grade": false,
     "grade_id": "cell-bb088e6d548822e9",
     "locked": true,
     "schema_version": 3,
     "solution": false,
     "task": false
    }
   },
   "outputs": [],
   "source": [
    "for o in order_plants:\n",
    "    prob += pulp.lpSum(build[p] for p in order_plants[o]) == 1, \"Order_\" + str(o) + \"_filled\""
   ]
  },
  {
   "cell_type": "markdown",
   "metadata": {
    "deletable": false,
    "editable": false,
    "nbgrader": {
     "cell_type": "markdown",
     "checksum": "42769663d3663eaae3ef2a37bf214055",
     "grade": false,
     "grade_id": "cell-e91bee93d7420a0d",
     "locked": true,
     "schema_version": 3,
     "solution": false,
     "task": false
    }
   },
   "source": [
    "## Part 3 (20 points)\n",
    "a) 10 pts\n",
    "\n",
    "c) 10 pts"
   ]
  },
  {
   "cell_type": "code",
   "execution_count": 24,
   "metadata": {
    "deletable": false,
    "nbgrader": {
     "cell_type": "code",
     "checksum": "bd34074404ba734298c78015c44d8cc0",
     "grade": false,
     "grade_id": "cell-6011409b7395156f",
     "locked": false,
     "schema_version": 3,
     "solution": true,
     "task": false
    }
   },
   "outputs": [
    {
     "name": "stdout",
     "output_type": "stream",
     "text": [
      "Status: Not Solved\n"
     ]
    }
   ],
   "source": [
    "''' \n",
    "a) Solve the linear programming problem and store its status in a variable called 'status'.\n",
    "'''\n",
    "\n",
    "# your code here\n",
    "status = pulp.LpStatus[prob.status]\n",
    "for i in range(3):\n",
    "    if status == 'Optimal':\n",
    "        break\n",
    "    prob.solve()\n",
    "\n",
    "print(\"Status:\", status)"
   ]
  },
  {
   "cell_type": "code",
   "execution_count": null,
   "metadata": {
    "deletable": false,
    "editable": false,
    "nbgrader": {
     "cell_type": "code",
     "checksum": "9752cf637ea58e264e1b6f839d363e5e",
     "grade": true,
     "grade_id": "cell-c8bfba1ece343637",
     "locked": true,
     "points": 10,
     "schema_version": 3,
     "solution": false,
     "task": false
    }
   },
   "outputs": [],
   "source": [
    "'''\n",
    "End of Section\n",
    "'''"
   ]
  },
  {
   "cell_type": "code",
   "execution_count": 25,
   "metadata": {
    "deletable": false,
    "nbgrader": {
     "cell_type": "code",
     "checksum": "1a7202be5233376bfe8060efb91c099b",
     "grade": false,
     "grade_id": "cell-a4eb545a63066476",
     "locked": false,
     "schema_version": 3,
     "solution": true,
     "task": false
    }
   },
   "outputs": [
    {
     "name": "stdout",
     "output_type": "stream",
     "text": [
      "Total Cost =  27140675.14\n"
     ]
    }
   ],
   "source": [
    "'''\n",
    "b) Find the total cost to produce and ship all products and store the answer in a variable called total_cost\n",
    "Round the final answer to 2 decimal places (https://docs.python.org/3/library/functions.html#round).\n",
    "'''\n",
    "# your code here\n",
    "total_cost = round(pulp.value(prob.objective), 2)\n",
    "\n",
    "print(\"Total Cost = \", str(total_cost))"
   ]
  },
  {
   "cell_type": "code",
   "execution_count": null,
   "metadata": {
    "deletable": false,
    "editable": false,
    "nbgrader": {
     "cell_type": "code",
     "checksum": "3398f861313d5ca30391bdd896e9d365",
     "grade": true,
     "grade_id": "cell-0ca1972550eee052",
     "locked": true,
     "points": 10,
     "schema_version": 3,
     "solution": false,
     "task": false
    }
   },
   "outputs": [],
   "source": [
    "'''\n",
    "End of Section\n",
    "'''"
   ]
  },
  {
   "cell_type": "code",
   "execution_count": null,
   "metadata": {},
   "outputs": [],
   "source": []
  }
 ],
 "metadata": {
  "kernelspec": {
   "display_name": "Python 3",
   "language": "python",
   "name": "python3"
  },
  "language_info": {
   "codemirror_mode": {
    "name": "ipython",
    "version": 3
   },
   "file_extension": ".py",
   "mimetype": "text/x-python",
   "name": "python",
   "nbconvert_exporter": "python",
   "pygments_lexer": "ipython3",
   "version": "3.7.6"
  }
 },
 "nbformat": 4,
 "nbformat_minor": 4
}
